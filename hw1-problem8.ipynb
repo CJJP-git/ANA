{
 "cells": [
  {
   "cell_type": "code",
   "execution_count": 1,
   "id": "6d5074f7",
   "metadata": {},
   "outputs": [],
   "source": [
    "import numpy as np"
   ]
  },
  {
   "cell_type": "markdown",
   "id": "1d5fbcdb",
   "metadata": {},
   "source": [
    "# Define function to calculate the value"
   ]
  },
  {
   "cell_type": "code",
   "execution_count": 2,
   "id": "98c8bdf5",
   "metadata": {},
   "outputs": [],
   "source": [
    "def f(x, a):\n",
    "    fun = np.poly1d(a)(x)\n",
    "    return fun"
   ]
  },
  {
   "cell_type": "markdown",
   "id": "e5c97b07",
   "metadata": {},
   "source": [
    "# Define function to calculate the value of first order derivative"
   ]
  },
  {
   "cell_type": "code",
   "execution_count": 3,
   "id": "e0498a77",
   "metadata": {},
   "outputs": [],
   "source": [
    "def df(x, a):\n",
    "    df_value = np.polyder(np.poly1d(a), m=1)(x)\n",
    "    return df_value"
   ]
  },
  {
   "cell_type": "markdown",
   "id": "3d3a3fcc",
   "metadata": {},
   "source": [
    "# Define function to calculate the value of second order derivative"
   ]
  },
  {
   "cell_type": "code",
   "execution_count": 4,
   "id": "27aa7d21",
   "metadata": {},
   "outputs": [],
   "source": [
    "def d2f(x, a):\n",
    "    d2f_value = np.polyder(np.poly1d(a), m=2)(x)\n",
    "    return d2f_value"
   ]
  },
  {
   "cell_type": "markdown",
   "id": "89ae1e07",
   "metadata": {},
   "source": [
    "# Define function finding iterative root by Halley’s method"
   ]
  },
  {
   "cell_type": "code",
   "execution_count": 5,
   "id": "76d3ecd9",
   "metadata": {},
   "outputs": [],
   "source": [
    "def halley(a, precision, p0, iter_num):\n",
    "    err = 0\n",
    "    for i in range(iter_num):\n",
    "        nr_mod = pow(1 - df(p0, a)*d2f(p0, a)/2/pow(df(p0, a), 2), -1)\n",
    "        p1 = p0 - (f(p0, a) / df(p0, a)) * nr_mod\n",
    "\n",
    "        err = np.abs(f(p0, a))\n",
    "        if (i == 0) | (i == 1) | (i == 2):\n",
    "            print('p', i+1, '=', p1)\n",
    "        if precision > err:\n",
    "            break\n",
    "        p0 = p1\n",
    "    return p0"
   ]
  },
  {
   "cell_type": "markdown",
   "id": "f2dcb716",
   "metadata": {},
   "source": [
    "# Input function"
   ]
  },
  {
   "cell_type": "code",
   "execution_count": 6,
   "id": "218c7c50",
   "metadata": {},
   "outputs": [],
   "source": [
    "coo_1 = [1, 0, -np.sqrt(5)]\n",
    "coo_2 = [1, 0, -3, 2]"
   ]
  },
  {
   "cell_type": "markdown",
   "id": "635ac5b1",
   "metadata": {},
   "source": [
    "# f(x)=x^2 - sqrt(5)"
   ]
  },
  {
   "cell_type": "code",
   "execution_count": 7,
   "id": "e370bb04",
   "metadata": {
    "scrolled": true
   },
   "outputs": [
    {
     "name": "stdout",
     "output_type": "stream",
     "text": [
      "p 1 = 1.4120226591665967\n",
      "p 2 = 1.5448373349122955\n",
      "p 3 = 1.4728383697088923\n"
     ]
    },
    {
     "data": {
      "text/plain": [
       "1.495348781196397"
      ]
     },
     "execution_count": 7,
     "metadata": {},
     "output_type": "execute_result"
    }
   ],
   "source": [
    "halley(coo_1, 1e-10, 2, 10000)"
   ]
  },
  {
   "cell_type": "markdown",
   "id": "7ab629b2",
   "metadata": {},
   "source": [
    "# f(x)=x^3 - 3x+2"
   ]
  },
  {
   "cell_type": "code",
   "execution_count": 8,
   "id": "850d08ac",
   "metadata": {},
   "outputs": [
    {
     "name": "stdout",
     "output_type": "stream",
     "text": [
      "p 1 = -2.184729981378026\n",
      "p 2 = -2.079901990678135\n",
      "p 3 = -2.0331669538309316\n"
     ]
    },
    {
     "data": {
      "text/plain": [
       "-2.000000000009593"
      ]
     },
     "execution_count": 8,
     "metadata": {},
     "output_type": "execute_result"
    }
   ],
   "source": [
    "halley(coo_2, 1e-10, -2.4, 10000)"
   ]
  },
  {
   "cell_type": "code",
   "execution_count": null,
   "id": "18dea6d6",
   "metadata": {},
   "outputs": [],
   "source": []
  }
 ],
 "metadata": {
  "kernelspec": {
   "display_name": "Python 3",
   "language": "python",
   "name": "python3"
  },
  "language_info": {
   "codemirror_mode": {
    "name": "ipython",
    "version": 3
   },
   "file_extension": ".py",
   "mimetype": "text/x-python",
   "name": "python",
   "nbconvert_exporter": "python",
   "pygments_lexer": "ipython3",
   "version": "3.8.8"
  }
 },
 "nbformat": 4,
 "nbformat_minor": 5
}
