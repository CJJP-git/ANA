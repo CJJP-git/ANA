{
 "cells": [
  {
   "cell_type": "code",
   "execution_count": 1,
   "id": "99af9690",
   "metadata": {},
   "outputs": [],
   "source": [
    "import numpy as np"
   ]
  },
  {
   "cell_type": "code",
   "execution_count": 4,
   "id": "f08eedf0",
   "metadata": {},
   "outputs": [],
   "source": [
    "def caculate_func1(x_low_range, x_up_range, step, fun_co):\n",
    "    y = []\n",
    "    for x in np.arange(x_low_range, x_up_range, step):\n",
    "        y.append(np.polyval(fun_co, x))\n",
    "    return y"
   ]
  },
  {
   "cell_type": "markdown",
   "id": "68517f2a",
   "metadata": {},
   "source": [
    "# Define a function to find the function value of y"
   ]
  },
  {
   "cell_type": "code",
   "execution_count": 3,
   "id": "b61d8a00",
   "metadata": {},
   "outputs": [],
   "source": [
    "def find_value(y):\n",
    "    maxy = y[0]\n",
    "    miny = y[0]\n",
    "    for i in range(len(y)):\n",
    "        if maxy < y[i]:\n",
    "            maxy = y[i]\n",
    "        if miny > y[i]:\n",
    "            miny = y[i]\n",
    "    return maxy, miny\n"
   ]
  },
  {
   "cell_type": "markdown",
   "id": "eba3bbdf",
   "metadata": {},
   "source": [
    "# Define a function to find the maximum and minimum of y"
   ]
  },
  {
   "cell_type": "code",
   "execution_count": 5,
   "id": "7f9c6dfa",
   "metadata": {},
   "outputs": [],
   "source": [
    "func1_co = [1000000, -111000, 1110, -1]\n",
    "func2_co = [5, -38, 21, 0, -5*np.pi, -3*np.pi, 0, 0, -5, +8, -3]"
   ]
  },
  {
   "cell_type": "markdown",
   "id": "142dc11e",
   "metadata": {},
   "source": [
    "# Input the coefficient of both two function"
   ]
  },
  {
   "cell_type": "code",
   "execution_count": 7,
   "id": "971c40c3",
   "metadata": {
    "scrolled": true
   },
   "outputs": [
    {
     "name": "stdout",
     "output_type": "stream",
     "text": [
      " the maximum of function 1 is: 7546667.777994915 \n",
      " the maximum of function 1 is: -8446221.0 \n",
      " the maximum of function 2 is: 29209.283245595885 \n",
      " the maximum of function 2 is: -10229.756940900304\n"
     ]
    }
   ],
   "source": [
    "y1 = caculate_func1(-2, 2, 0.001, func1_co)\n",
    "y1_max, y1_min = find_value(y1)\n",
    "\n",
    "y2 = caculate_func1(-2, 2, 0.001, func2_co)\n",
    "y2_max, y2_min = find_value(y2)\n",
    "print(\" the maximum of function 1 is:\",y1_max,'\\n',\"the maximum of function 1 is:\",y1_min,'\\n',\n",
    "      \"the maximum of function 2 is:\",y2_max,'\\n',\"the maximum of function 2 is:\",y2_min)"
   ]
  }
 ],
 "metadata": {
  "kernelspec": {
   "display_name": "Python 3",
   "language": "python",
   "name": "python3"
  },
  "language_info": {
   "codemirror_mode": {
    "name": "ipython",
    "version": 3
   },
   "file_extension": ".py",
   "mimetype": "text/x-python",
   "name": "python",
   "nbconvert_exporter": "python",
   "pygments_lexer": "ipython3",
   "version": "3.8.8"
  }
 },
 "nbformat": 4,
 "nbformat_minor": 5
}
