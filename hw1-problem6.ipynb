{
 "cells": [
  {
   "cell_type": "code",
   "execution_count": 1,
   "id": "68f83d9e",
   "metadata": {},
   "outputs": [],
   "source": [
    "import numpy as np"
   ]
  },
  {
   "cell_type": "code",
   "execution_count": 3,
   "id": "a30596c4",
   "metadata": {},
   "outputs": [],
   "source": [
    "def newton(p0, A, precision, iter_num):\n",
    "    err = 0\n",
    "    for i in range(iter_num):\n",
    "        p1 = (2 * p0 + A / pow(p0, 2)) / 3\n",
    "        err = np.abs(p1 - p0)\n",
    "        p0 = p1\n",
    "        if err <= precision:\n",
    "            break\n",
    "    return p0"
   ]
  },
  {
   "cell_type": "code",
   "execution_count": 6,
   "id": "4b5d56bf",
   "metadata": {},
   "outputs": [
    {
     "name": "stdout",
     "output_type": "stream",
     "text": [
      "The approximate of 7^1/3 is : 1.912931182772389\n",
      "The approximate of 200^1/3 is : 5.848035476425732\n",
      "The approximate of -7^1/3 is : -1.912931182772389\n"
     ]
    }
   ],
   "source": [
    "app_7 = newton(2, 7, 1e-10, 10000)\n",
    "app_200 = newton(6, 200, 1e-10, 10000)\n",
    "app_neg7 = newton(-2, -7, 1e-10, 10000)\n",
    "print('The approximate of 7^1/3 is :', app_7)\n",
    "print('The approximate of 200^1/3 is :', app_200)\n",
    "print('The approximate of -7^1/3 is :', app_neg7)"
   ]
  },
  {
   "cell_type": "code",
   "execution_count": null,
   "id": "24af0e73",
   "metadata": {},
   "outputs": [],
   "source": []
  }
 ],
 "metadata": {
  "kernelspec": {
   "display_name": "Python 3",
   "language": "python",
   "name": "python3"
  },
  "language_info": {
   "codemirror_mode": {
    "name": "ipython",
    "version": 3
   },
   "file_extension": ".py",
   "mimetype": "text/x-python",
   "name": "python",
   "nbconvert_exporter": "python",
   "pygments_lexer": "ipython3",
   "version": "3.8.8"
  }
 },
 "nbformat": 4,
 "nbformat_minor": 5
}
